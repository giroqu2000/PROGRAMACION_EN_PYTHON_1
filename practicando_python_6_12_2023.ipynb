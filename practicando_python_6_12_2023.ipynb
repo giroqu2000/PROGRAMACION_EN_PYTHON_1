{
  "nbformat": 4,
  "nbformat_minor": 0,
  "metadata": {
    "colab": {
      "provenance": [],
      "authorship_tag": "ABX9TyNcLD0bUkdDcJJyvy+wTRAp",
      "include_colab_link": true
    },
    "kernelspec": {
      "name": "python3",
      "display_name": "Python 3"
    },
    "language_info": {
      "name": "python"
    }
  },
  "cells": [
    {
      "cell_type": "markdown",
      "metadata": {
        "id": "view-in-github",
        "colab_type": "text"
      },
      "source": [
        "<a href=\"https://colab.research.google.com/github/giroqu2000/PROGRAMACION_EN_PYTHON_1/blob/main/practicando_python_6_12_2023.ipynb\" target=\"_parent\"><img src=\"https://colab.research.google.com/assets/colab-badge.svg\" alt=\"Open In Colab\"/></a>"
      ]
    },
    {
      "cell_type": "markdown",
      "source": [
        "#**volviendo ha practicar python**\n"
      ],
      "metadata": {
        "id": "PWvylivagWx8"
      }
    },
    {
      "cell_type": "code",
      "source": [],
      "metadata": {
        "id": "2b6J0T5_gUF3"
      },
      "execution_count": null,
      "outputs": []
    }
  ]
}