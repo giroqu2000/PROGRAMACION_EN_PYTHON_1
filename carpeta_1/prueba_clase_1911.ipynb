{
  "nbformat": 4,
  "nbformat_minor": 0,
  "metadata": {
    "colab": {
      "provenance": [],
      "authorship_tag": "ABX9TyPOokSZlK8m1U6KUWa3phAA",
      "include_colab_link": true
    },
    "kernelspec": {
      "name": "python3",
      "display_name": "Python 3"
    },
    "language_info": {
      "name": "python"
    }
  },
  "cells": [
    {
      "cell_type": "markdown",
      "metadata": {
        "id": "view-in-github",
        "colab_type": "text"
      },
      "source": [
        "<a href=\"https://colab.research.google.com/github/giroqu2000/PROGRAMACION_EN_PYTHON_1/blob/main/carpeta_1/prueba_clase_1911.ipynb\" target=\"_parent\"><img src=\"https://colab.research.google.com/assets/colab-badge.svg\" alt=\"Open In Colab\"/></a>"
      ]
    },
    {
      "cell_type": "markdown",
      "source": [
        "#notebook en python\n",
        "##notebook en python\n",
        "###notebook en python\n",
        "####notebook en python\n"
      ],
      "metadata": {
        "id": "8Nnr576wn5Np"
      }
    },
    {
      "cell_type": "code",
      "execution_count": null,
      "metadata": {
        "colab": {
          "base_uri": "https://localhost:8080/"
        },
        "id": "OX5DaU6bnWRC",
        "outputId": "b4a8402c-4534-46c7-8b5f-9872c02e9dc7"
      },
      "outputs": [
        {
          "output_type": "stream",
          "name": "stdout",
          "text": [
            "hola CTIC uni\n"
          ]
        }
      ],
      "source": [
        "print('hola CTIC uni')"
      ]
    },
    {
      "cell_type": "code",
      "source": [
        "1+1"
      ],
      "metadata": {
        "colab": {
          "base_uri": "https://localhost:8080/"
        },
        "id": "TkBHZq5fnagn",
        "outputId": "a510845b-9e9d-4024-997a-5220c8067424"
      },
      "execution_count": null,
      "outputs": [
        {
          "output_type": "execute_result",
          "data": {
            "text/plain": [
              "2"
            ]
          },
          "metadata": {},
          "execution_count": 2
        }
      ]
    },
    {
      "cell_type": "code",
      "source": [],
      "metadata": {
        "id": "RjOdXAiwnb3w"
      },
      "execution_count": null,
      "outputs": []
    }
  ]
}